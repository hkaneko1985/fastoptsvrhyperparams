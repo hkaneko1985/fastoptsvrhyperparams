{
 "cells": [
  {
   "cell_type": "markdown",
   "metadata": {},
   "source": [
    " ## Fast optimization of SVR hyperparameters with Gaussian kernel"
   ]
  },
  {
   "cell_type": "markdown",
   "metadata": {},
   "source": [
    "Hiromasa Kaneko"
   ]
  },
  {
   "cell_type": "code",
   "execution_count": 1,
   "metadata": {
    "collapsed": true
   },
   "outputs": [],
   "source": [
    "import numpy as np\n",
    "#import pandas as pd\n",
    "from sklearn import model_selection, svm, datasets\n",
    "from sklearn.model_selection import train_test_split, GridSearchCV\n",
    "import matplotlib.pyplot as plt\n",
    "import matplotlib.figure as figure\n",
    "import time"
   ]
  },
  {
   "cell_type": "code",
   "execution_count": 2,
   "metadata": {
    "collapsed": true
   },
   "outputs": [],
   "source": [
    "# Settings\n",
    "svrcs = 2**np.arange( -5, 10, dtype=float)          # Candidates of C\n",
    "svrepsilons = 2**np.arange( -10, 0, dtype=float)    # Candidates of epsilon\n",
    "svrgammas = 2**np.arange( -20, 10, dtype=float)     # Candidates of gamma\n",
    "foldnumber = 5 # \"foldnumber\"-fold cross-validation\n",
    "nmberoftrainingsamples = 1000\n",
    "nmberoftestsamples = 1000"
   ]
  },
  {
   "cell_type": "code",
   "execution_count": 3,
   "metadata": {
    "collapsed": true
   },
   "outputs": [],
   "source": [
    "# Generate samples for demonstration\n",
    "X, y = datasets.make_regression(n_samples=nmberoftrainingsamples+nmberoftestsamples, n_features=100,\n",
    "                                n_informative=100, noise=100, random_state=0)"
   ]
  },
  {
   "cell_type": "code",
   "execution_count": 4,
   "metadata": {
    "collapsed": true
   },
   "outputs": [],
   "source": [
    "# Divide samples into trainign samples and test samples\n",
    "Xtrain, Xtest, ytrain, ytest = train_test_split(X, y, test_size=nmberoftestsamples, random_state=0)"
   ]
  },
  {
   "cell_type": "code",
   "execution_count": 5,
   "metadata": {
    "collapsed": true
   },
   "outputs": [],
   "source": [
    "# Standarize X and y\n",
    "autoscaledXtrain = (Xtrain - Xtrain.mean(axis=0)) / Xtrain.std(axis=0, ddof=1)\n",
    "autoscaledytrain = (ytrain - ytrain.mean()) / ytrain.std(ddof=1)\n",
    "autoscaledXtest =  (Xtest - Xtrain.mean(axis=0)) / Xtrain.std(axis=0, ddof=1)"
   ]
  },
  {
   "cell_type": "code",
   "execution_count": 6,
   "metadata": {
    "collapsed": true
   },
   "outputs": [],
   "source": [
    "# Measure time in hyperparameter optimization\n",
    "starttime = time.time()"
   ]
  },
  {
   "cell_type": "code",
   "execution_count": 7,
   "metadata": {
    "collapsed": true
   },
   "outputs": [],
   "source": [
    "# Optimize gamma by maximizing variance in Gram matrix\n",
    "numpyautoscaledXtrain = np.array(autoscaledXtrain)\n",
    "varianceofgrammatrix = list()\n",
    "for svrgamma in svrgammas:\n",
    "    grammatrix = np.exp(-svrgamma*((numpyautoscaledXtrain[:, np.newaxis] - numpyautoscaledXtrain)**2).sum(axis=2))\n",
    "    varianceofgrammatrix.append(grammatrix.var(ddof=1))\n",
    "optimalsvrgamma = svrgammas[ np.where( varianceofgrammatrix == np.max(varianceofgrammatrix) )[0][0] ]"
   ]
  },
  {
   "cell_type": "code",
   "execution_count": 8,
   "metadata": {
    "collapsed": true
   },
   "outputs": [],
   "source": [
    "# Optimize epsilon with cross-validation\n",
    "svrmodelincv = GridSearchCV(svm.SVR(kernel='rbf', C=3, gamma=optimalsvrgamma), {'epsilon':svrepsilons}, cv=foldnumber )\n",
    "svrmodelincv.fit(autoscaledXtrain, autoscaledytrain)\n",
    "optimalsvrepsilon = svrmodelincv.best_params_['epsilon']"
   ]
  },
  {
   "cell_type": "code",
   "execution_count": 9,
   "metadata": {
    "collapsed": true
   },
   "outputs": [],
   "source": [
    "# Optimize C with cross-validation\n",
    "svrmodelincv = GridSearchCV(svm.SVR(kernel='rbf', epsilon=optimalsvrepsilon, gamma=optimalsvrgamma), {'C':svrcs}, cv=foldnumber )\n",
    "svrmodelincv.fit(autoscaledXtrain, autoscaledytrain)\n",
    "optimalsvrc = svrmodelincv.best_params_['C']"
   ]
  },
  {
   "cell_type": "code",
   "execution_count": 10,
   "metadata": {
    "collapsed": true
   },
   "outputs": [],
   "source": [
    "# Optimize gamma with cross-validation (optional)\n",
    "svrmodelincv = GridSearchCV(svm.SVR(kernel='rbf', epsilon=optimalsvrepsilon, C=optimalsvrc), {'gamma':svrgammas}, cv=foldnumber )\n",
    "svrmodelincv.fit(autoscaledXtrain, autoscaledytrain)\n",
    "optimalsvrgamma = svrmodelincv.best_params_['gamma']"
   ]
  },
  {
   "cell_type": "code",
   "execution_count": 11,
   "metadata": {
    "collapsed": false
   },
   "outputs": [
    {
     "name": "stdout",
     "output_type": "stream",
     "text": [
      "Elapsed time in hyperparameter optimization: 86.29207825660706 [sec]\n"
     ]
    }
   ],
   "source": [
    "# Check time in hyperparameter optimization\n",
    "elapsedtime = time.time() - starttime\n",
    "print (\"Elapsed time in hyperparameter optimization: {0} [sec]\".format(elapsedtime))"
   ]
  },
  {
   "cell_type": "code",
   "execution_count": 12,
   "metadata": {
    "collapsed": false
   },
   "outputs": [
    {
     "name": "stdout",
     "output_type": "stream",
     "text": [
      "C: 4.0, Epsion: 0.015625, Gamma: 0.0009765625\n"
     ]
    }
   ],
   "source": [
    "# Check optimized hyperparameters\n",
    "print (\"C: {0}, Epsion: {1}, Gamma: {2}\".format(optimalsvrc, optimalsvrepsilon, optimalsvrgamma))"
   ]
  },
  {
   "cell_type": "code",
   "execution_count": 13,
   "metadata": {
    "collapsed": false
   },
   "outputs": [
    {
     "data": {
      "text/plain": [
       "SVR(C=4.0, cache_size=200, coef0=0.0, degree=3, epsilon=0.015625,\n",
       "  gamma=0.0009765625, kernel='rbf', max_iter=-1, shrinking=True, tol=0.001,\n",
       "  verbose=False)"
      ]
     },
     "execution_count": 13,
     "metadata": {},
     "output_type": "execute_result"
    }
   ],
   "source": [
    "# Construct SVR model\n",
    "regressionmodel = svm.SVR(kernel='rbf', C=optimalsvrc, epsilon=optimalsvrepsilon, gamma=optimalsvrgamma)\n",
    "regressionmodel.fit(autoscaledXtrain, autoscaledytrain)"
   ]
  },
  {
   "cell_type": "code",
   "execution_count": 14,
   "metadata": {
    "collapsed": true
   },
   "outputs": [],
   "source": [
    "# Calculate y of trainig dataset\n",
    "calculatedytrain = np.ndarray.flatten( regressionmodel.predict(autoscaledXtrain) )\n",
    "calculatedytrain = calculatedytrain*ytrain.std(ddof=1) + ytrain.mean()"
   ]
  },
  {
   "cell_type": "code",
   "execution_count": 15,
   "metadata": {
    "collapsed": false
   },
   "outputs": [
    {
     "name": "stdout",
     "output_type": "stream",
     "text": [
      "r2: 0.9831924534513368\n",
      "RMSE: 74.26285959600784\n",
      "MAE: 49.662182361929084\n"
     ]
    }
   ],
   "source": [
    "# r2, RMSE, MAE\n",
    "print( \"r2: {0}\".format(float( 1 - sum( (ytrain-calculatedytrain )**2 ) / sum((ytrain-ytrain.mean())**2) )) )\n",
    "print( \"RMSE: {0}\".format(float( ( sum( (ytrain-calculatedytrain)**2 )/ len(ytrain))**0.5 )) )\n",
    "print( \"MAE: {0}\".format(float( sum( abs(ytrain-calculatedytrain)) / len(ytrain) )) )"
   ]
  },
  {
   "cell_type": "code",
   "execution_count": 16,
   "metadata": {
    "collapsed": false
   },
   "outputs": [
    {
     "data": {
      "image/png": "[encoded data removed]",
      "text/plain": [
       "<matplotlib.figure.Figure at 0x2b50ad0f4e0>"
      ]
     },
     "metadata": {},
     "output_type": "display_data"
    }
   ],
   "source": [
    "# yyplot\n",
    "plt.figure(figsize=figure.figaspect(1))\n",
    "plt.scatter( ytrain, calculatedytrain)\n",
    "YMax = np.max( np.array([np.array(ytrain), calculatedytrain]))\n",
    "YMin = np.min( np.array([np.array(ytrain), calculatedytrain]))\n",
    "plt.plot([YMin-0.05*(YMax-YMin),YMax+0.05*(YMax-YMin)], [YMin-0.05*(YMax-YMin),YMax+0.05*(YMax-YMin)], 'k-')\n",
    "plt.ylim(YMin-0.05*(YMax-YMin),YMax+0.05*(YMax-YMin))\n",
    "plt.xlim(YMin-0.05*(YMax-YMin),YMax+0.05*(YMax-YMin))\n",
    "plt.xlabel(\"Actual Y\")\n",
    "plt.ylabel(\"Calculated Y\")\n",
    "plt.show()"
   ]
  },
  {
   "cell_type": "code",
   "execution_count": 17,
   "metadata": {
    "collapsed": true
   },
   "outputs": [],
   "source": [
    "# Estimate y in cross-validation\n",
    "estimatedyincv = np.ndarray.flatten( model_selection.cross_val_predict(regressionmodel, autoscaledXtrain, autoscaledytrain, cv=foldnumber) )\n",
    "estimatedyincv = estimatedyincv*ytrain.std(ddof=1) + ytrain.mean()"
   ]
  },
  {
   "cell_type": "code",
   "execution_count": 18,
   "metadata": {
    "collapsed": false
   },
   "outputs": [
    {
     "name": "stdout",
     "output_type": "stream",
     "text": [
      "r2cv: 0.9612749562826922\n",
      "RMSEcv: 112.72375966704446\n",
      "MAEcv: 89.67038330386009\n"
     ]
    }
   ],
   "source": [
    "# r2cv, RMSEcv, MAEcv\n",
    "print( \"r2cv: {0}\".format(float( 1 - sum( (ytrain-estimatedyincv )**2 ) / sum((ytrain-ytrain.mean())**2) )) )\n",
    "print( \"RMSEcv: {0}\".format(float( ( sum( (ytrain-estimatedyincv)**2 )/ len(ytrain))**0.5 )) )\n",
    "print( \"MAEcv: {0}\".format(float( sum( abs(ytrain-estimatedyincv)) / len(ytrain) )) )"
   ]
  },
  {
   "cell_type": "code",
   "execution_count": 19,
   "metadata": {
    "collapsed": false
   },
   "outputs": [
    {
     "data": {
      "image/png": "[encoded data removed]",
      "text/plain": [
       "<matplotlib.figure.Figure at 0x2b50ad0f6d8>"
      ]
     },
     "metadata": {},
     "output_type": "display_data"
    }
   ],
   "source": [
    "# yyplot\n",
    "plt.figure(figsize=figure.figaspect(1))\n",
    "plt.scatter( ytrain, estimatedyincv)\n",
    "YMax = np.max( np.array([np.array(ytrain), estimatedyincv]))\n",
    "YMin = np.min( np.array([np.array(ytrain), estimatedyincv]))\n",
    "plt.plot([YMin-0.05*(YMax-YMin),YMax+0.05*(YMax-YMin)], [YMin-0.05*(YMax-YMin),YMax+0.05*(YMax-YMin)], 'k-')\n",
    "plt.ylim(YMin-0.05*(YMax-YMin),YMax+0.05*(YMax-YMin))\n",
    "plt.xlim(YMin-0.05*(YMax-YMin),YMax+0.05*(YMax-YMin))\n",
    "plt.xlabel(\"Actual Y\")\n",
    "plt.ylabel(\"Estimated Y in CV\")\n",
    "plt.show()"
   ]
  },
  {
   "cell_type": "code",
   "execution_count": 20,
   "metadata": {
    "collapsed": true
   },
   "outputs": [],
   "source": [
    "# Estimate y of test dataset\n",
    "predictedytest = np.ndarray.flatten( regressionmodel.predict(autoscaledXtest) )\n",
    "predictedytest = predictedytest*ytrain.std(ddof=1) + ytrain.mean()"
   ]
  },
  {
   "cell_type": "code",
   "execution_count": 21,
   "metadata": {
    "collapsed": false
   },
   "outputs": [
    {
     "name": "stdout",
     "output_type": "stream",
     "text": [
      "r2p: 0.9611379250872425\n",
      "RMSEp: 108.75737066499826\n",
      "MAEp: 85.8076626303417\n"
     ]
    }
   ],
   "source": [
    "# r2p, RMSEp, MAEp\n",
    "print( \"r2p: {0}\".format(float( 1 - sum( (ytest-predictedytest )**2 ) / sum((ytest-ytest.mean())**2) )) )\n",
    "print( \"RMSEp: {0}\".format(float( ( sum( (ytest-predictedytest)**2 )/ len(ytest))**0.5 )) )\n",
    "print( \"MAEp: {0}\".format(float( sum( abs(ytest-predictedytest)) / len(ytest) )) )"
   ]
  },
  {
   "cell_type": "code",
   "execution_count": 22,
   "metadata": {
    "collapsed": false
   },
   "outputs": [
    {
     "data": {
      "image/png": "[encoded data removed]",
      "text/plain": [
       "<matplotlib.figure.Figure at 0x2b50ad0fb00>"
      ]
     },
     "metadata": {},
     "output_type": "display_data"
    }
   ],
   "source": [
    "# yyplot\n",
    "plt.figure(figsize=figure.figaspect(1))\n",
    "plt.scatter( ytest, predictedytest)\n",
    "YMax = np.max( np.array([np.array(ytest), predictedytest]))\n",
    "YMin = np.min( np.array([np.array(ytest), predictedytest]))\n",
    "plt.plot([YMin-0.05*(YMax-YMin),YMax+0.05*(YMax-YMin)], [YMin-0.05*(YMax-YMin),YMax+0.05*(YMax-YMin)], 'k-')\n",
    "plt.ylim(YMin-0.05*(YMax-YMin),YMax+0.05*(YMax-YMin))\n",
    "plt.xlim(YMin-0.05*(YMax-YMin),YMax+0.05*(YMax-YMin))\n",
    "plt.xlabel(\"Actual Y\")\n",
    "plt.ylabel(\"Estimated Y\")\n",
    "plt.show()"
   ]
  }
 ],
 "metadata": {
  "kernelspec": {
   "display_name": "Python 3",
   "language": "python",
   "name": "python3"
  },
  "language_info": {
   "codemirror_mode": {
    "name": "ipython",
    "version": 3
   },
   "file_extension": ".py",
   "mimetype": "text/x-python",
   "name": "python",
   "nbconvert_exporter": "python",
   "pygments_lexer": "ipython3",
   "version": "3.6.0"
  }
 },
 "nbformat": 4,
 "nbformat_minor": 2
}
